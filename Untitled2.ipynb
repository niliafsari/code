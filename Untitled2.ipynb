{
 "metadata": {
  "name": "",
  "signature": "sha256:0f0627ce044859b262887d75ddea299185791b76ae7b01c35392652236c81b09"
 },
 "nbformat": 3,
 "nbformat_minor": 0,
 "worksheets": [
  {
   "cells": [
    {
     "cell_type": "code",
     "collapsed": false,
     "input": [
      " python extract_realData.py gb057_1.input_baseline258_freq_03_pol_all.rebint.1 16384 660 1 2"
     ],
     "language": "python",
     "metadata": {},
     "outputs": [
      {
       "ename": "SyntaxError",
       "evalue": "invalid syntax (<ipython-input-1-c740405c02ce>, line 1)",
       "output_type": "pyerr",
       "traceback": [
        "\u001b[1;36m  File \u001b[1;32m\"<ipython-input-1-c740405c02ce>\"\u001b[1;36m, line \u001b[1;32m1\u001b[0m\n\u001b[1;33m    python extract_realData.py gb057_1.input_baseline258_freq_03_pol_all.rebint.1 16384 660 1 2\u001b[0m\n\u001b[1;37m                          ^\u001b[0m\n\u001b[1;31mSyntaxError\u001b[0m\u001b[1;31m:\u001b[0m invalid syntax\n"
       ]
      }
     ],
     "prompt_number": 1
    },
    {
     "cell_type": "code",
     "collapsed": false,
     "input": [
      "%run extract_realData.py gb057_1.input_baseline258_freq_03_pol_all.rebint.1 16384 660 1 2"
     ],
     "language": "python",
     "metadata": {},
     "outputs": [
      {
       "output_type": "stream",
       "stream": "stdout",
       "text": [
        "[[ 1.40+0.j  2.02+0.j  0.00+0.j  0.00+0.j]\n",
        " [ 0.00+0.j  0.00+0.j  0.00+0.j  0.00+0.j]]\n",
        "[[ 0.85+0.j -0.08-0.j  0.00+0.j -0.08-0.j  0.00+0.j  0.00+0.j  0.00+0.j  0.00+0.j]\n",
        " [-0.08+0.j  0.85+0.j -0.08-0.j  0.00+0.j  0.00+0.j  0.00+0.j  0.00+0.j  0.00+0.j]\n",
        " [ 0.00+0.j -0.08+0.j  0.85+0.j -0.08-0.j  0.00+0.j  0.00+0.j  0.00+0.j  0.00+0.j]\n",
        " [-0.08+0.j  0.00+0.j -0.08+0.j  0.85+0.j  0.00+0.j  0.00+0.j  0.00+0.j  0.00+0.j]\n",
        " [ 0.00+0.j  0.00+0.j  0.00+0.j  0.00+0.j  0.85+0.j -0.08-0.j  0.00+0.j -0.08-0.j]\n",
        " [ 0.00+0.j  0.00+0.j  0.00+0.j  0.00+0.j -0.08+0.j  0.85+0.j -0.08-0.j  0.00+0.j]\n",
        " [ 0.00+0.j  0.00+0.j  0.00+0.j  0.00+0.j  0.00+0.j -0.08+0.j  0.85+0.j -0.08-0.j]\n",
        " [ 0.00+0.j  0.00+0.j  0.00+0.j  0.00+0.j -0.08+0.j  0.00+0.j -0.08+0.j  0.85+0.j]] 2 4\n",
        "[ 1.01+0.j  0.85+0.j  0.70+0.j  0.85+0.j  1.01+0.j  0.85+0.j  0.70+0.j  0.85+0.j]\n",
        "[[ 0.92+0.j -0.08+0.j  0.00+0.j -0.08+0.j  0.00+0.j  0.00+0.j  0.00+0.j  0.00+0.j]\n",
        " [-0.00+0.j  0.92+0.j -0.08+0.j -0.01+0.j  0.00+0.j  0.00+0.j  0.00+0.j  0.00+0.j]\n",
        " [-0.00+0.j -0.00+0.j  0.92+0.j -0.08+0.j  0.00+0.j  0.00+0.j  0.00+0.j  0.00+0.j]\n",
        " [-0.00+0.j -0.00+0.j -0.00+0.j  0.92+0.j  0.00+0.j  0.00+0.j  0.00+0.j  0.00+0.j]\n",
        " [ 0.00+0.j  0.00+0.j  0.00+0.j  0.00+0.j  0.92+0.j -0.08+0.j  0.00+0.j -0.08+0.j]\n",
        " [ 0.00+0.j  0.00+0.j  0.00+0.j  0.00+0.j -0.00+0.j  0.92+0.j -0.08+0.j -0.01+0.j]\n",
        " [ 0.00+0.j  0.00+0.j  0.00+0.j  0.00+0.j -0.00+0.j -0.00+0.j  0.92+0.j -0.08+0.j]\n",
        " [ 0.00+0.j  0.00+0.j  0.00+0.j  0.00+0.j -0.00+0.j -0.00+0.j -0.00+0.j  0.92+0.j]]"
       ]
      },
      {
       "output_type": "stream",
       "stream": "stdout",
       "text": [
        "\n"
       ]
      },
      {
       "output_type": "stream",
       "stream": "stderr",
       "text": [
        "/cita/h/home-2/nafsari/Toeplitz/toeplitz_decomp.py:25: ComplexWarning: Casting complex values to real discards the imaginary part\n",
        "  alpha -= gamma*beta0\n"
       ]
      }
     ],
     "prompt_number": 2
    },
    {
     "cell_type": "code",
     "collapsed": false,
     "input": [
      "%run extract_realData.py gb057_1.input_baseline258_freq_03_pol_all.rebint.1 16384 660 2 2"
     ],
     "language": "python",
     "metadata": {},
     "outputs": [
      {
       "output_type": "stream",
       "stream": "stdout",
       "text": [
        "[[ 0.00+0.j  2.05+0.j  0.00+0.j  0.00+0.j]\n",
        " [ 1.37+0.j  2.35+0.j  0.00+0.j  0.00+0.j]\n",
        " [ 0.00+0.j  0.00+0.j  0.00+0.j  0.00+0.j]\n",
        " [ 0.00+0.j  0.00+0.j  0.00+0.j  0.00+0.j]]\n",
        "[[ 1.44+0.j -0.38-0.j -0.00-0.j -0.38-0.j -0.21+0.j -0.28-0.j -0.00-0.j  0.14+0.j  0.00+0.j  0.00+0.j  0.00+0.j  0.00+0.j -0.21+0.j  0.14+0.j -0.00-0.j -0.28-0.j]\n",
        " [-0.38+0.j  1.44+0.j -0.38-0.j -0.00-0.j -0.28+0.j -0.21+0.j -0.28-0.j -0.00-0.j  0.00+0.j  0.00+0.j  0.00+0.j  0.00+0.j  0.14+0.j -0.21+0.j  0.14+0.j -0.00-0.j]\n",
        " [-0.00+0.j -0.38+0.j  1.44+0.j -0.38-0.j -0.00+0.j -0.28+0.j -0.21+0.j -0.28-0.j  0.00+0.j  0.00+0.j  0.00+0.j  0.00+0.j -0.00+0.j  0.14+0.j -0.21+0.j  0.14+0.j]\n",
        " [-0.38+0.j -0.00+0.j -0.38+0.j  1.44+0.j  0.14+0.j -0.00+0.j -0.28+0.j -0.21+0.j  0.00+0.j  0.00+0.j  0.00+0.j  0.00+0.j -0.28+0.j -0.00+0.j  0.14+0.j -0.21+0.j]\n",
        " [-0.21+0.j -0.28+0.j -0.00+0.j  0.14+0.j  1.44+0.j -0.38-0.j -0.00-0.j -0.38-0.j -0.21+0.j -0.28-0.j -0.00-0.j  0.14+0.j  0.00+0.j  0.00+0.j  0.00+0.j  0.00+0.j]\n",
        " [-0.28+0.j -0.21+0.j -0.28+0.j -0.00+0.j -0.38+0.j  1.44+0.j -0.38-0.j -0.00-0.j -0.28+0.j -0.21+0.j -0.28-0.j -0.00-0.j  0.00+0.j  0.00+0.j  0.00+0.j  0.00+0.j]\n",
        " [-0.00+0.j -0.28+0.j -0.21+0.j -0.28+0.j -0.00+0.j -0.38+0.j  1.44+0.j -0.38-0.j -0.00+0.j -0.28+0.j -0.21+0.j -0.28-0.j  0.00+0.j  0.00+0.j  0.00+0.j  0.00+0.j]\n",
        " [ 0.14+0.j -0.00+0.j -0.28+0.j -0.21+0.j -0.38+0.j -0.00+0.j -0.38+0.j  1.44+0.j  0.14+0.j -0.00+0.j -0.28+0.j -0.21+0.j  0.00+0.j  0.00+0.j  0.00+0.j  0.00+0.j]\n",
        " [ 0.00+0.j  0.00+0.j  0.00+0.j  0.00+0.j -0.21+0.j -0.28+0.j -0.00+0.j  0.14+0.j  1.44+0.j -0.38-0.j -0.00-0.j -0.38-0.j -0.21+0.j -0.28-0.j -0.00-0.j  0.14+0.j]\n",
        " [ 0.00+0.j  0.00+0.j  0.00+0.j  0.00+0.j -0.28+0.j -0.21+0.j -0.28+0.j -0.00+0.j -0.38+0.j  1.44+0.j -0.38-0.j -0.00-0.j -0.28+0.j -0.21+0.j -0.28-0.j -0.00-0.j]\n",
        " [ 0.00+0.j  0.00+0.j  0.00+0.j  0.00+0.j -0.00+0.j -0.28+0.j -0.21+0.j -0.28+0.j -0.00+0.j -0.38+0.j  1.44+0.j -0.38-0.j -0.00+0.j -0.28+0.j -0.21+0.j -0.28-0.j]\n",
        " [ 0.00+0.j  0.00+0.j  0.00+0.j  0.00+0.j  0.14+0.j -0.00+0.j -0.28+0.j -0.21+0.j -0.38+0.j -0.00+0.j -0.38+0.j  1.44+0.j  0.14+0.j -0.00+0.j -0.28+0.j -0.21+0.j]\n",
        " [-0.21+0.j  0.14+0.j -0.00+0.j -0.28+0.j  0.00+0.j  0.00+0.j  0.00+0.j  0.00+0.j -0.21+0.j -0.28+0.j -0.00+0.j  0.14+0.j  1.44+0.j -0.38-0.j -0.00-0.j -0.38-0.j]\n",
        " [ 0.14+0.j -0.21+0.j  0.14+0.j -0.00+0.j  0.00+0.j  0.00+0.j  0.00+0.j  0.00+0.j -0.28+0.j -0.21+0.j -0.28+0.j -0.00+0.j -0.38+0.j  1.44+0.j -0.38-0.j -0.00-0.j]\n",
        " [-0.00+0.j  0.14+0.j -0.21+0.j  0.14+0.j  0.00+0.j  0.00+0.j  0.00+0.j  0.00+0.j -0.00+0.j -0.28+0.j -0.21+0.j -0.28+0.j -0.00+0.j -0.38+0.j  1.44+0.j -0.38-0.j]\n",
        " [-0.28+0.j -0.00+0.j  0.14+0.j -0.21+0.j  0.00+0.j  0.00+0.j  0.00+0.j  0.00+0.j  0.14+0.j -0.00+0.j -0.28+0.j -0.21+0.j -0.38+0.j -0.00+0.j -0.38+0.j  1.44+0.j]] 4 4\n",
        "[-0.30+0.j  2.59+0.j  2.43+0.j  2.37+0.j  0.38+0.j  2.10+0.j  1.93+0.j  0.68+0.j  0.71+0.j  1.82+0.j  1.77+0.j  1.12+0.j  1.22+0.j  1.50+0.j  1.27+0.j  1.48+0.j]"
       ]
      },
      {
       "output_type": "stream",
       "stream": "stdout",
       "text": [
        "\n"
       ]
      },
      {
       "ename": "LinAlgError",
       "evalue": "Matrix is not positive definite",
       "output_type": "pyerr",
       "traceback": [
        "\u001b[1;31m---------------------------------------------------------------------------\u001b[0m\n\u001b[1;31mLinAlgError\u001b[0m                               Traceback (most recent call last)",
        "\u001b[1;32m/cita/h/home-2/nafsari/Toeplitz/extract_realData.py\u001b[0m in \u001b[0;36m<module>\u001b[1;34m()\u001b[0m\n\u001b[0;32m     52\u001b[0m \u001b[1;32mprint\u001b[0m \u001b[0mnp\u001b[0m\u001b[1;33m.\u001b[0m\u001b[0mlinalg\u001b[0m\u001b[1;33m.\u001b[0m\u001b[0meigvals\u001b[0m\u001b[1;33m(\u001b[0m\u001b[0minput_f\u001b[0m\u001b[1;33m)\u001b[0m\u001b[1;33m\u001b[0m\u001b[0m\n\u001b[0;32m     53\u001b[0m \u001b[1;31m#input_f=input_f+epsilon\u001b[0m\u001b[1;33m\u001b[0m\u001b[1;33m\u001b[0m\u001b[0m\n\u001b[1;32m---> 54\u001b[1;33m \u001b[0mL\u001b[0m\u001b[1;33m=\u001b[0m\u001b[0mnp\u001b[0m\u001b[1;33m.\u001b[0m\u001b[0mlinalg\u001b[0m\u001b[1;33m.\u001b[0m\u001b[0mcholesky\u001b[0m\u001b[1;33m(\u001b[0m\u001b[0minput_f\u001b[0m\u001b[1;33m)\u001b[0m\u001b[1;33m\u001b[0m\u001b[0m\n\u001b[0m\u001b[0;32m     55\u001b[0m \u001b[0moutput_file\u001b[0m\u001b[1;33m=\u001b[0m\u001b[1;34m\"real_n_%s_b_%s_neff_%s_beff_%s.dat\"\u001b[0m \u001b[1;33m%\u001b[0m\u001b[1;33m(\u001b[0m\u001b[0mstr\u001b[0m\u001b[1;33m(\u001b[0m\u001b[0mn\u001b[0m\u001b[1;33m)\u001b[0m\u001b[1;33m,\u001b[0m\u001b[0mstr\u001b[0m\u001b[1;33m(\u001b[0m\u001b[0mb\u001b[0m\u001b[1;33m)\u001b[0m\u001b[1;33m,\u001b[0m\u001b[0mstr\u001b[0m\u001b[1;33m(\u001b[0m\u001b[0mneff\u001b[0m\u001b[1;33m)\u001b[0m\u001b[1;33m,\u001b[0m\u001b[0mstr\u001b[0m\u001b[1;33m(\u001b[0m\u001b[0mbeff\u001b[0m\u001b[1;33m+\u001b[0m\u001b[0mpad2\u001b[0m\u001b[1;33m*\u001b[0m\u001b[0mbeff\u001b[0m\u001b[1;33m)\u001b[0m\u001b[1;33m)\u001b[0m\u001b[1;33m\u001b[0m\u001b[0m\n\u001b[0;32m     56\u001b[0m \u001b[0moutput\u001b[0m \u001b[1;33m=\u001b[0m \u001b[0mnp\u001b[0m\u001b[1;33m.\u001b[0m\u001b[0mmemmap\u001b[0m\u001b[1;33m(\u001b[0m\u001b[0moutput_file\u001b[0m\u001b[1;33m,\u001b[0m \u001b[0mdtype\u001b[0m\u001b[1;33m=\u001b[0m\u001b[1;34m'complex'\u001b[0m\u001b[1;33m,\u001b[0m \u001b[0mmode\u001b[0m\u001b[1;33m=\u001b[0m\u001b[1;34m'w+'\u001b[0m\u001b[1;33m,\u001b[0m \u001b[0mshape\u001b[0m\u001b[1;33m=\u001b[0m\u001b[1;33m(\u001b[0m\u001b[0mbeff\u001b[0m\u001b[1;33m+\u001b[0m\u001b[0mpad2\u001b[0m\u001b[1;33m*\u001b[0m\u001b[0mbeff\u001b[0m\u001b[1;33m,\u001b[0m \u001b[0mneff\u001b[0m\u001b[1;33m*\u001b[0m\u001b[1;33m(\u001b[0m\u001b[0mbeff\u001b[0m\u001b[1;33m+\u001b[0m\u001b[0mpad2\u001b[0m\u001b[1;33m*\u001b[0m\u001b[0mbeff\u001b[0m\u001b[1;33m)\u001b[0m\u001b[1;33m)\u001b[0m\u001b[1;33m,\u001b[0m\u001b[0morder\u001b[0m\u001b[1;33m=\u001b[0m\u001b[1;34m'F'\u001b[0m\u001b[1;33m)\u001b[0m\u001b[1;33m\u001b[0m\u001b[0m\n",
        "\u001b[1;32m/opt/python/2.7.6-notebook/lib/python2.7/site-packages/numpy/linalg/linalg.pyc\u001b[0m in \u001b[0;36mcholesky\u001b[1;34m(a)\u001b[0m\n\u001b[0;32m    601\u001b[0m     \u001b[0mt\u001b[0m\u001b[1;33m,\u001b[0m \u001b[0mresult_t\u001b[0m \u001b[1;33m=\u001b[0m \u001b[0m_commonType\u001b[0m\u001b[1;33m(\u001b[0m\u001b[0ma\u001b[0m\u001b[1;33m)\u001b[0m\u001b[1;33m\u001b[0m\u001b[0m\n\u001b[0;32m    602\u001b[0m     \u001b[0msignature\u001b[0m \u001b[1;33m=\u001b[0m \u001b[1;34m'D->D'\u001b[0m \u001b[1;32mif\u001b[0m \u001b[0misComplexType\u001b[0m\u001b[1;33m(\u001b[0m\u001b[0mt\u001b[0m\u001b[1;33m)\u001b[0m \u001b[1;32melse\u001b[0m \u001b[1;34m'd->d'\u001b[0m\u001b[1;33m\u001b[0m\u001b[0m\n\u001b[1;32m--> 603\u001b[1;33m     \u001b[1;32mreturn\u001b[0m \u001b[0mwrap\u001b[0m\u001b[1;33m(\u001b[0m\u001b[0mgufunc\u001b[0m\u001b[1;33m(\u001b[0m\u001b[0ma\u001b[0m\u001b[1;33m,\u001b[0m \u001b[0msignature\u001b[0m\u001b[1;33m=\u001b[0m\u001b[0msignature\u001b[0m\u001b[1;33m,\u001b[0m \u001b[0mextobj\u001b[0m\u001b[1;33m=\u001b[0m\u001b[0mextobj\u001b[0m\u001b[1;33m)\u001b[0m\u001b[1;33m.\u001b[0m\u001b[0mastype\u001b[0m\u001b[1;33m(\u001b[0m\u001b[0mresult_t\u001b[0m\u001b[1;33m)\u001b[0m\u001b[1;33m)\u001b[0m\u001b[1;33m\u001b[0m\u001b[0m\n\u001b[0m\u001b[0;32m    604\u001b[0m \u001b[1;33m\u001b[0m\u001b[0m\n\u001b[0;32m    605\u001b[0m \u001b[1;31m# QR decompostion\u001b[0m\u001b[1;33m\u001b[0m\u001b[1;33m\u001b[0m\u001b[0m\n",
        "\u001b[1;32m/opt/python/2.7.6-notebook/lib/python2.7/site-packages/numpy/linalg/linalg.pyc\u001b[0m in \u001b[0;36m_raise_linalgerror_nonposdef\u001b[1;34m(err, flag)\u001b[0m\n\u001b[0;32m     91\u001b[0m \u001b[1;33m\u001b[0m\u001b[0m\n\u001b[0;32m     92\u001b[0m \u001b[1;32mdef\u001b[0m \u001b[0m_raise_linalgerror_nonposdef\u001b[0m\u001b[1;33m(\u001b[0m\u001b[0merr\u001b[0m\u001b[1;33m,\u001b[0m \u001b[0mflag\u001b[0m\u001b[1;33m)\u001b[0m\u001b[1;33m:\u001b[0m\u001b[1;33m\u001b[0m\u001b[0m\n\u001b[1;32m---> 93\u001b[1;33m     \u001b[1;32mraise\u001b[0m \u001b[0mLinAlgError\u001b[0m\u001b[1;33m(\u001b[0m\u001b[1;34m\"Matrix is not positive definite\"\u001b[0m\u001b[1;33m)\u001b[0m\u001b[1;33m\u001b[0m\u001b[0m\n\u001b[0m\u001b[0;32m     94\u001b[0m \u001b[1;33m\u001b[0m\u001b[0m\n\u001b[0;32m     95\u001b[0m \u001b[1;32mdef\u001b[0m \u001b[0m_raise_linalgerror_eigenvalues_nonconvergence\u001b[0m\u001b[1;33m(\u001b[0m\u001b[0merr\u001b[0m\u001b[1;33m,\u001b[0m \u001b[0mflag\u001b[0m\u001b[1;33m)\u001b[0m\u001b[1;33m:\u001b[0m\u001b[1;33m\u001b[0m\u001b[0m\n",
        "\u001b[1;31mLinAlgError\u001b[0m: Matrix is not positive definite"
       ]
      }
     ],
     "prompt_number": 3
    },
    {
     "cell_type": "code",
     "collapsed": false,
     "input": [
      "%run extract_realData.py gb057_1.input_baseline258_freq_03_pol_all.rebint.1 16384 660 2 2"
     ],
     "language": "python",
     "metadata": {},
     "outputs": [
      {
       "output_type": "stream",
       "stream": "stdout",
       "text": [
        "[[ 0.00+0.j  2.05+0.j  0.00+0.j  0.00+0.j]\n",
        " [ 1.37+0.j  2.35+0.j  0.00+0.j  0.00+0.j]\n",
        " [ 0.00+0.j  0.00+0.j  0.00+0.j  0.00+0.j]\n",
        " [ 0.00+0.j  0.00+0.j  0.00+0.j  0.00+0.j]]\n",
        "[[ 1.44+0.j -0.38-0.j -0.00-0.j -0.38-0.j -0.21+0.j -0.28-0.j -0.00-0.j  0.14+0.j  0.00+0.j  0.00+0.j  0.00+0.j  0.00+0.j -0.21+0.j  0.14+0.j -0.00-0.j -0.28-0.j]\n",
        " [-0.38+0.j  1.44+0.j -0.38-0.j -0.00-0.j -0.28+0.j -0.21+0.j -0.28-0.j -0.00-0.j  0.00+0.j  0.00+0.j  0.00+0.j  0.00+0.j  0.14+0.j -0.21+0.j  0.14+0.j -0.00-0.j]\n",
        " [-0.00+0.j -0.38+0.j  1.44+0.j -0.38-0.j -0.00+0.j -0.28+0.j -0.21+0.j -0.28-0.j  0.00+0.j  0.00+0.j  0.00+0.j  0.00+0.j -0.00+0.j  0.14+0.j -0.21+0.j  0.14+0.j]\n",
        " [-0.38+0.j -0.00+0.j -0.38+0.j  1.44+0.j  0.14+0.j -0.00+0.j -0.28+0.j -0.21+0.j  0.00+0.j  0.00+0.j  0.00+0.j  0.00+0.j -0.28+0.j -0.00+0.j  0.14+0.j -0.21+0.j]\n",
        " [-0.21+0.j -0.28+0.j -0.00+0.j  0.14+0.j  1.44+0.j -0.38-0.j -0.00-0.j -0.38-0.j -0.21+0.j -0.28-0.j -0.00-0.j  0.14+0.j  0.00+0.j  0.00+0.j  0.00+0.j  0.00+0.j]\n",
        " [-0.28+0.j -0.21+0.j -0.28+0.j -0.00+0.j -0.38+0.j  1.44+0.j -0.38-0.j -0.00-0.j -0.28+0.j -0.21+0.j -0.28-0.j -0.00-0.j  0.00+0.j  0.00+0.j  0.00+0.j  0.00+0.j]\n",
        " [-0.00+0.j -0.28+0.j -0.21+0.j -0.28+0.j -0.00+0.j -0.38+0.j  1.44+0.j -0.38-0.j -0.00+0.j -0.28+0.j -0.21+0.j -0.28-0.j  0.00+0.j  0.00+0.j  0.00+0.j  0.00+0.j]\n",
        " [ 0.14+0.j -0.00+0.j -0.28+0.j -0.21+0.j -0.38+0.j -0.00+0.j -0.38+0.j  1.44+0.j  0.14+0.j -0.00+0.j -0.28+0.j -0.21+0.j  0.00+0.j  0.00+0.j  0.00+0.j  0.00+0.j]\n",
        " [ 0.00+0.j  0.00+0.j  0.00+0.j  0.00+0.j -0.21+0.j -0.28+0.j -0.00+0.j  0.14+0.j  1.44+0.j -0.38-0.j -0.00-0.j -0.38-0.j -0.21+0.j -0.28-0.j -0.00-0.j  0.14+0.j]\n",
        " [ 0.00+0.j  0.00+0.j  0.00+0.j  0.00+0.j -0.28+0.j -0.21+0.j -0.28+0.j -0.00+0.j -0.38+0.j  1.44+0.j -0.38-0.j -0.00-0.j -0.28+0.j -0.21+0.j -0.28-0.j -0.00-0.j]\n",
        " [ 0.00+0.j  0.00+0.j  0.00+0.j  0.00+0.j -0.00+0.j -0.28+0.j -0.21+0.j -0.28+0.j -0.00+0.j -0.38+0.j  1.44+0.j -0.38-0.j -0.00+0.j -0.28+0.j -0.21+0.j -0.28-0.j]\n",
        " [ 0.00+0.j  0.00+0.j  0.00+0.j  0.00+0.j  0.14+0.j -0.00+0.j -0.28+0.j -0.21+0.j -0.38+0.j -0.00+0.j -0.38+0.j  1.44+0.j  0.14+0.j -0.00+0.j -0.28+0.j -0.21+0.j]\n",
        " [-0.21+0.j  0.14+0.j -0.00+0.j -0.28+0.j  0.00+0.j  0.00+0.j  0.00+0.j  0.00+0.j -0.21+0.j -0.28+0.j -0.00+0.j  0.14+0.j  1.44+0.j -0.38-0.j -0.00-0.j -0.38-0.j]\n",
        " [ 0.14+0.j -0.21+0.j  0.14+0.j -0.00+0.j  0.00+0.j  0.00+0.j  0.00+0.j  0.00+0.j -0.28+0.j -0.21+0.j -0.28+0.j -0.00+0.j -0.38+0.j  1.44+0.j -0.38-0.j -0.00-0.j]\n",
        " [-0.00+0.j  0.14+0.j -0.21+0.j  0.14+0.j  0.00+0.j  0.00+0.j  0.00+0.j  0.00+0.j -0.00+0.j -0.28+0.j -0.21+0.j -0.28+0.j -0.00+0.j -0.38+0.j  1.44+0.j -0.38-0.j]\n",
        " [-0.28+0.j -0.00+0.j  0.14+0.j -0.21+0.j  0.00+0.j  0.00+0.j  0.00+0.j  0.00+0.j  0.14+0.j -0.00+0.j -0.28+0.j -0.21+0.j -0.38+0.j -0.00+0.j -0.38+0.j  1.44+0.j]] 4 4\n",
        "[-0.30+0.j  2.59+0.j  2.43+0.j  2.37+0.j  0.38+0.j  2.10+0.j  1.93+0.j  0.68+0.j  0.71+0.j  1.82+0.j  1.77+0.j  1.12+0.j  1.22+0.j  1.50+0.j  1.27+0.j  1.48+0.j]"
       ]
      },
      {
       "output_type": "stream",
       "stream": "stdout",
       "text": [
        "\n"
       ]
      },
      {
       "ename": "LinAlgError",
       "evalue": "Matrix is not positive definite",
       "output_type": "pyerr",
       "traceback": [
        "\u001b[1;31m---------------------------------------------------------------------------\u001b[0m\n\u001b[1;31mLinAlgError\u001b[0m                               Traceback (most recent call last)",
        "\u001b[1;32m/cita/h/home-2/nafsari/Toeplitz/extract_realData.py\u001b[0m in \u001b[0;36m<module>\u001b[1;34m()\u001b[0m\n\u001b[0;32m     52\u001b[0m \u001b[1;31m#temp=a_input[1:neff, beff/2:beff]\u001b[0m\u001b[1;33m\u001b[0m\u001b[1;33m\u001b[0m\u001b[0m\n\u001b[0;32m     53\u001b[0m \u001b[1;31m#temp=np.flipud(temp)\u001b[0m\u001b[1;33m\u001b[0m\u001b[1;33m\u001b[0m\u001b[0m\n\u001b[1;32m---> 54\u001b[1;33m \u001b[1;31m#a_input[1:neff, beff/2:beff]=temp\u001b[0m\u001b[1;33m\u001b[0m\u001b[1;33m\u001b[0m\u001b[0m\n\u001b[0m\u001b[0;32m     55\u001b[0m \u001b[1;31m#print a_input,\"after third fft\"\u001b[0m\u001b[1;33m\u001b[0m\u001b[1;33m\u001b[0m\u001b[0m\n\u001b[0;32m     56\u001b[0m \u001b[1;31m#x=a_input[neff/2-1,:]\u001b[0m\u001b[1;33m\u001b[0m\u001b[1;33m\u001b[0m\u001b[0m\n",
        "\u001b[1;32m/opt/python/2.7.6-notebook/lib/python2.7/site-packages/numpy/linalg/linalg.pyc\u001b[0m in \u001b[0;36mcholesky\u001b[1;34m(a)\u001b[0m\n\u001b[0;32m    601\u001b[0m     \u001b[0mt\u001b[0m\u001b[1;33m,\u001b[0m \u001b[0mresult_t\u001b[0m \u001b[1;33m=\u001b[0m \u001b[0m_commonType\u001b[0m\u001b[1;33m(\u001b[0m\u001b[0ma\u001b[0m\u001b[1;33m)\u001b[0m\u001b[1;33m\u001b[0m\u001b[0m\n\u001b[0;32m    602\u001b[0m     \u001b[0msignature\u001b[0m \u001b[1;33m=\u001b[0m \u001b[1;34m'D->D'\u001b[0m \u001b[1;32mif\u001b[0m \u001b[0misComplexType\u001b[0m\u001b[1;33m(\u001b[0m\u001b[0mt\u001b[0m\u001b[1;33m)\u001b[0m \u001b[1;32melse\u001b[0m \u001b[1;34m'd->d'\u001b[0m\u001b[1;33m\u001b[0m\u001b[0m\n\u001b[1;32m--> 603\u001b[1;33m     \u001b[1;32mreturn\u001b[0m \u001b[0mwrap\u001b[0m\u001b[1;33m(\u001b[0m\u001b[0mgufunc\u001b[0m\u001b[1;33m(\u001b[0m\u001b[0ma\u001b[0m\u001b[1;33m,\u001b[0m \u001b[0msignature\u001b[0m\u001b[1;33m=\u001b[0m\u001b[0msignature\u001b[0m\u001b[1;33m,\u001b[0m \u001b[0mextobj\u001b[0m\u001b[1;33m=\u001b[0m\u001b[0mextobj\u001b[0m\u001b[1;33m)\u001b[0m\u001b[1;33m.\u001b[0m\u001b[0mastype\u001b[0m\u001b[1;33m(\u001b[0m\u001b[0mresult_t\u001b[0m\u001b[1;33m)\u001b[0m\u001b[1;33m)\u001b[0m\u001b[1;33m\u001b[0m\u001b[0m\n\u001b[0m\u001b[0;32m    604\u001b[0m \u001b[1;33m\u001b[0m\u001b[0m\n\u001b[0;32m    605\u001b[0m \u001b[1;31m# QR decompostion\u001b[0m\u001b[1;33m\u001b[0m\u001b[1;33m\u001b[0m\u001b[0m\n",
        "\u001b[1;32m/opt/python/2.7.6-notebook/lib/python2.7/site-packages/numpy/linalg/linalg.pyc\u001b[0m in \u001b[0;36m_raise_linalgerror_nonposdef\u001b[1;34m(err, flag)\u001b[0m\n\u001b[0;32m     91\u001b[0m \u001b[1;33m\u001b[0m\u001b[0m\n\u001b[0;32m     92\u001b[0m \u001b[1;32mdef\u001b[0m \u001b[0m_raise_linalgerror_nonposdef\u001b[0m\u001b[1;33m(\u001b[0m\u001b[0merr\u001b[0m\u001b[1;33m,\u001b[0m \u001b[0mflag\u001b[0m\u001b[1;33m)\u001b[0m\u001b[1;33m:\u001b[0m\u001b[1;33m\u001b[0m\u001b[0m\n\u001b[1;32m---> 93\u001b[1;33m     \u001b[1;32mraise\u001b[0m \u001b[0mLinAlgError\u001b[0m\u001b[1;33m(\u001b[0m\u001b[1;34m\"Matrix is not positive definite\"\u001b[0m\u001b[1;33m)\u001b[0m\u001b[1;33m\u001b[0m\u001b[0m\n\u001b[0m\u001b[0;32m     94\u001b[0m \u001b[1;33m\u001b[0m\u001b[0m\n\u001b[0;32m     95\u001b[0m \u001b[1;32mdef\u001b[0m \u001b[0m_raise_linalgerror_eigenvalues_nonconvergence\u001b[0m\u001b[1;33m(\u001b[0m\u001b[0merr\u001b[0m\u001b[1;33m,\u001b[0m \u001b[0mflag\u001b[0m\u001b[1;33m)\u001b[0m\u001b[1;33m:\u001b[0m\u001b[1;33m\u001b[0m\u001b[0m\n",
        "\u001b[1;31mLinAlgError\u001b[0m: Matrix is not positive definite"
       ]
      }
     ],
     "prompt_number": 4
    },
    {
     "cell_type": "code",
     "collapsed": false,
     "input": [],
     "language": "python",
     "metadata": {},
     "outputs": []
    }
   ],
   "metadata": {}
  }
 ]
}